{
 "cells": [
  {
   "cell_type": "code",
   "execution_count": null,
   "metadata": {},
   "outputs": [],
   "source": [
    "import pandas as pd\n",
    "import numpy as np\n",
    "from pygam import GAM, s\n",
    "from sklearn.preprocessing import StandardScaler\n",
    "from sklearn.linear_model import TheilSenRegressor\n",
    "import matplotlib.pyplot as plt"
   ]
  },
  {
   "cell_type": "code",
   "execution_count": null,
   "metadata": {},
   "outputs": [],
   "source": [
    "df = pd.read_csv('Q_Donnees.csv')\n",
    "\n",
    "# Préparation des données\n",
    "variables_meteo = ['RR', 'TM', 'FFM', 'DXY']\n",
    "variable_pollution = 'CNO2'\n",
    "df = df.dropna(subset=variables_meteo + [variable_pollution])\n",
    "df['AAAAMMJJ'] = pd.to_datetime(df['AAAAMMJJ'], format='%Y-%m-%d', errors='coerce')\n",
    "# Conversion des dates\n",
    "\n",
    "df.set_index('AAAAMMJJ', inplace=True)\n",
    "date_test = df.index.values\n",
    "\n",
    "print(date_test)\n",
    "df.head()\n"
   ]
  },
  {
   "cell_type": "code",
   "execution_count": null,
   "metadata": {},
   "outputs": [],
   "source": [
    "\n",
    "df_train_val = df[(df.index.year >= 1995) & (df.index.year <= 2016)]\n",
    "\n",
    "# Filtrage des données pour les années 2016 à 2020 pour le test\n",
    "df_test = df[(df.index.year >= 2020) & (df.index.year <= 2023)]\n",
    "\n",
    "\n",
    "X_train_val = df_train_val[variables_meteo].values\n",
    "y_train_val = df_train_val[variable_pollution].values\n",
    "X_test = df_test[variables_meteo].values\n",
    "y_test = df_test[variable_pollution].values\n"
   ]
  },
  {
   "cell_type": "code",
   "execution_count": null,
   "metadata": {},
   "outputs": [],
   "source": [
    "gam = GAM(s(0) + s(1) + s(2) + s(3))\n",
    "gam.fit(X_train_val, y_train_val)"
   ]
  },
  {
   "cell_type": "code",
   "execution_count": null,
   "metadata": {},
   "outputs": [],
   "source": [
    "# Prédiction sur les données d'entraînement et de test\n",
    "y_train_val_pred = gam.predict(X_train_val)\n",
    "y_test_pred = gam.predict(X_test)\n",
    "\n",
    "# Calcul des résidus\n",
    "effects_train_val = y_train_val - y_train_val_pred\n",
    "effects_test = y_test - y_test_pred\n",
    "\n",
    "\n"
   ]
  },
  {
   "cell_type": "code",
   "execution_count": null,
   "metadata": {},
   "outputs": [],
   "source": [
    "print(date_test)"
   ]
  },
  {
   "cell_type": "code",
   "execution_count": null,
   "metadata": {},
   "outputs": [],
   "source": [
    "# Déterminer la pente (slope) et l'ordonnée à l'origine pour Theil-Sen\n",
    "slope = -0.020335539886242354  # Exemple de pente de Theil-Sen\n",
    "intercept = np.median(effects_test) - slope * np.median(np.arange(len(effects_test)))\n",
    "\n",
    "# Générer la tendance estimée avec Theil-Sen\n",
    "trend_line = slope * np.arange(len(date_test)) + intercept\n",
    "\n",
    "date_test = date_test[-len(effects_test:]\n",
    "\n",
    "len(trend_line)\n",
    "\n",
    "plt.figure(figsize=(10, 5))\n",
    "plt.plot(date_test, effects_test, label='Effets dus aux actions humaines', color='red')\n",
    "plt.xlabel('Date')\n",
    "plt.ylabel('Effets des actions humaines sur la concentration en NO2')\n",
    "plt.title('Effets des actions humaines sur la Prédiction de la Concentration en NO2 avec GAM')\n",
    "plt.legend()\n",
    "plt.grid(True)\n",
    "plt.xticks(rotation=45)\n",
    "plt.tight_layout()\n",
    "plt.show()\n"
   ]
  },
  {
   "cell_type": "code",
   "execution_count": null,
   "metadata": {},
   "outputs": [],
   "source": [
    "# Déterminer la pente (slope) et l'ordonnée à l'origine pour Theil-Sen\n",
    "slope = -0.020335539886242354  # Exemple de pente de Theil-Sen\n",
    "intercept = np.median(effects_test) - slope * np.median(np.arange(len(effects_test)))\n",
    "\n",
    "# Générer la tendance estimée avec Theil-Sen\n",
    "trend_line = slope * np.arange(len(date_test)) + intercept\n",
    "plt.xlabel('Date')\n",
    "plt.ylabel('Effets des actions humaines sur la concentration en NO2')\n",
    "plt.title('Effets des actions humaines sur la Prédiction de la Concentration en NO2 avec GAM')\n",
    "plt.legend()\n",
    "plt.grid(True)\n",
    "plt.xticks(rotation=45)\n",
    "plt.tight_layout()\n",
    "plt.show()\n",
    "\n",
    "# Vérification de l'absence de tendance\n",
    "if np.abs(slope) < 1e-3:\n",
    "    print(\"Les effets des actions humaines n'ont pas de tendance significative, indiquant une bonne décorrélation.\")\n",
    "else:\n",
    "    print(\"Les effets des actions humaines ont une tendance significative, indiquant une possible mauvaise décorrélation.\")"
   ]
  },
  {
   "cell_type": "code",
   "execution_count": null,
   "metadata": {},
   "outputs": [],
   "source": [
    "# Affichage des résultats\n",
    "plt.figure(figsize=(10, 5))\n",
    "plt.plot(date_test, effects_test, label='Effets dus aux actions humaines', color='red')\n",
    "plt.plot(date_test, trend_line[:len(date_test)], label='Tendance estimée avec Theil-Sen', color='blue', linestyle='--')\n",
    "plt.xlabel('Date')\n",
    "plt.ylabel('Effets des actions humaines sur la concentration en NO2')\n",
    "plt.title('Effets des actions humaines sur la Prédiction de la Concentration en NO2 avec GAM')\n",
    "plt.legend()\n",
    "plt.grid(True)\n",
    "plt.xticks(rotation=45)\n",
    "plt.tight_layout()\n",
    "plt.show()\n",
    "\n",
    "# Vérification de l'absence de tendance\n",
    "if np.abs(slope) < 1e-3:\n",
    "    print(\"Les effets des actions humaines n'ont pas de tendance significative, indiquant une bonne décorrélation.\")\n",
    "else:\n",
    "    print(\"Les effets des actions humaines ont une tendance significative, indiquant une possible mauvaise décorrélation.\")"
   ]
  },
  {
   "cell_type": "code",
   "execution_count": null,
   "metadata": {},
   "outputs": [],
   "source": []
  },
  {
   "cell_type": "code",
   "execution_count": null,
   "metadata": {},
   "outputs": [],
   "source": []
  }
 ],
 "metadata": {
  "kernelspec": {
   "display_name": "base",
   "language": "python",
   "name": "python3"
  },
  "language_info": {
   "codemirror_mode": {
    "name": "ipython",
    "version": 3
   },
   "file_extension": ".py",
   "mimetype": "text/x-python",
   "name": "python",
   "nbconvert_exporter": "python",
   "pygments_lexer": "ipython3",
   "version": "3.11.5"
  }
 },
 "nbformat": 4,
 "nbformat_minor": 2
}
