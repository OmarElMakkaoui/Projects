{
 "cells": [
  {
   "cell_type": "code",
   "execution_count": null,
   "metadata": {},
   "outputs": [],
   "source": [
    "import pandas as pd\n",
    "import numpy as np\n",
    "from pygam import GAM, s\n",
    "from sklearn.preprocessing import StandardScaler\n",
    "from sklearn.metrics import r2_score, mean_squared_error, mean_absolute_percentage_error\n",
    "import matplotlib.pyplot as plt\n"
   ]
  },
  {
   "cell_type": "code",
   "execution_count": null,
   "metadata": {},
   "outputs": [],
   "source": [
    "df = pd.read_csv('Q_Donnees.csv')\n",
    "\n",
    "# Préparation des données\n",
    "variables_meteo = ['RR', 'TM', 'FFM', 'DXY']\n",
    "variable_pollution = 'CNO2'\n",
    "df = df.dropna(subset=variables_meteo + [variable_pollution])\n",
    "df['AAAAMMJJ'] = pd.to_datetime(df['AAAAMMJJ'], format='%Y-%m-%d', errors='coerce')\n",
    "# Conversion des dates\n",
    "\n",
    "df.set_index('AAAAMMJJ', inplace=True)\n",
    "date_test = df.index.values\n",
    "\n",
    "print(date_test)\n",
    "df.head()"
   ]
  },
  {
   "cell_type": "code",
   "execution_count": null,
   "metadata": {},
   "outputs": [],
   "source": [
    "# Filtrage des données pour les années 1995 à 2019 pour l'entraînement\n",
    "df_train = df[(df.index.year >= 1995) & (df.index.year <= 2019)]\n",
    "\n",
    "# Filtrage des données pour les années 2020 à 2023 pour le test\n",
    "df_test = df[(df.index.year >= 2020) & (df.index.year <= 2023)]\n",
    "\n",
    "# Préparation des données pour le modèle\n",
    "X_train = df_train[variables_meteo].values\n",
    "y_train = df_train[variable_pollution].values\n",
    "X_test = df_test[variables_meteo].values\n",
    "y_test = df_test[variable_pollution].values\n",
    "date_test = df_test.index.values\n",
    "\n",
    "# Normalisation des données\n",
    "scaler = StandardScaler()\n",
    "X_train = scaler.fit_transform(X_train)\n",
    "X_test = scaler.transform(X_test)\n",
    "\n",
    "# Ajustement du modèle GAM\n",
    "gam = GAM(s(0) + s(1) + s(2) + s(3))\n",
    "gam.fit(X_train, y_train)\n",
    "\n",
    "# Prédiction sur les données de test\n",
    "y_test_pred = gam.predict(X_test)\n",
    "\n",
    "# Calcul des métriques de performance\n",
    "r2 = r2_score(y_test, y_test_pred)\n",
    "mse = mean_squared_error(y_test, y_test_pred)\n",
    "rmse = np.sqrt(mse)\n",
    "mape = mean_absolute_percentage_error(y_test, y_test_pred)\n",
    "\n",
    "print(f\"R^2: {r2}\")\n",
    "print(f\"MSE: {mse}\")\n",
    "print(f\"RMSE: {rmse}\")\n",
    "print(f\"MAPE: {mape}\")\n",
    "\n",
    "# Affichage des résultats\n",
    "plt.figure(figsize=(10, 5))\n",
    "plt.plot(date_test, y_test, label='Valeurs Observées', color='blue')\n",
    "plt.plot(date_test, y_test_pred, label='Valeurs Prédites', color='orange', linestyle='--')\n",
    "plt.xlabel('Date')\n",
    "plt.ylabel('Concentration en NO2')\n",
    "plt.title('Prédiction de la Concentration en NO2 avec GAM pendant la periode du Covid (2020-2023)')\n",
    "plt.legend()\n",
    "plt.grid(True)\n",
    "plt.xticks(rotation=45)\n",
    "plt.tight_layout()\n",
    "plt.show()"
   ]
  },
  {
   "cell_type": "code",
   "execution_count": null,
   "metadata": {},
   "outputs": [],
   "source": []
  },
  {
   "cell_type": "code",
   "execution_count": null,
   "metadata": {},
   "outputs": [],
   "source": []
  }
 ],
 "metadata": {
  "kernelspec": {
   "display_name": "Python 3",
   "language": "python",
   "name": "python3"
  },
  "language_info": {
   "codemirror_mode": {
    "name": "ipython",
    "version": 3
   },
   "file_extension": ".py",
   "mimetype": "text/x-python",
   "name": "python",
   "nbconvert_exporter": "python",
   "pygments_lexer": "ipython3",
   "version": "3.9.6"
  }
 },
 "nbformat": 4,
 "nbformat_minor": 2
}
